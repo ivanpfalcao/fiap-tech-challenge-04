{
 "cells": [
  {
   "cell_type": "code",
   "execution_count": 5,
   "metadata": {},
   "outputs": [],
   "source": [
    "import requests\n",
    "\n",
    "# Base URL for the API\n",
    "BASE_URL = \"http://127.0.0.1:8000\"\n",
    "\n",
    "# Test the root endpoint\n",
    "def test_root():\n",
    "\tresponse = requests.get(f\"{BASE_URL}/\")\n",
    "\tprint(\"Root Endpoint Response:\", response.json())\n",
    "\n",
    "# Test the health check endpoint\n",
    "def test_health_check():\n",
    "\tresponse = requests.get(f\"{BASE_URL}/health/\")\n",
    "\tprint(\"Health Check Response:\", response.json())\n",
    "\n",
    "# Test a non-existing endpoint (404)\n",
    "def test_non_existing_endpoint():\n",
    "\tresponse = requests.get(f\"{BASE_URL}/non-existing\")\n",
    "\tprint(\"Non-Existing Endpoint Response:\", response.status_code, response.json())\n",
    "\t\n",
    "# Test creating an item\n",
    "def test_predict():\n",
    "\titem_data = {\n",
    "\t\t\"data_list\": [1.5, 2.3, 3.7]\n",
    "\t}\n",
    "\tresponse = requests.post(f\"{BASE_URL}/predict/\", json=item_data)\n",
    "\tprint(\"Create Item Response:\", response.json())\n"
   ]
  },
  {
   "cell_type": "code",
   "execution_count": 9,
   "metadata": {},
   "outputs": [
    {
     "name": "stdout",
     "output_type": "stream",
     "text": [
      "Testing the API...\n",
      "Root Endpoint Response: {'message': 'Welcome to FastAPI!'}\n",
      "Health Check Response: {'status': 'ok'}\n",
      "Non-Existing Endpoint Response: 404 {'detail': 'Not Found'}\n",
      "Create Item Response: {'prediction': [0.057168006896972656, 1.602320671081543, 6.864319801330566], 'message': 'Prediction Ok'}\n"
     ]
    }
   ],
   "source": [
    "print(\"Testing the API...\")\n",
    "test_root()\n",
    "test_health_check()\n",
    "test_non_existing_endpoint()\n",
    "test_predict()"
   ]
  }
 ],
 "metadata": {
  "kernelspec": {
   "display_name": "fiap-tech-challenge-04",
   "language": "python",
   "name": "python3"
  },
  "language_info": {
   "codemirror_mode": {
    "name": "ipython",
    "version": 3
   },
   "file_extension": ".py",
   "mimetype": "text/x-python",
   "name": "python",
   "nbconvert_exporter": "python",
   "pygments_lexer": "ipython3",
   "version": "3.10.15"
  }
 },
 "nbformat": 4,
 "nbformat_minor": 2
}
