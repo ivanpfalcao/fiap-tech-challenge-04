{
 "cells": [
  {
   "cell_type": "code",
   "execution_count": null,
   "metadata": {},
   "outputs": [],
   "source": [
    "import os\n",
    "\n",
    "os.environ['MLFLOW_TRACKING_USERNAME']=\"user\"\n",
    "os.environ['MLFLOW_TRACKING_PASSWORD']=\"pswd\""
   ]
  },
  {
   "cell_type": "code",
   "execution_count": null,
   "metadata": {},
   "outputs": [],
   "source": [
    "from stock_predictions.predictors.stock_predictions import PredictionRunner\n",
    "\n",
    "pred_runner = PredictionRunner(tracking_url=\"http://localhost:5000\", experiment_name=\"Stock Prediction\")\n",
    "\n",
    "pred_runner.torch_config()"
   ]
  },
  {
   "cell_type": "code",
   "execution_count": null,
   "metadata": {},
   "outputs": [],
   "source": [
    "pred_runner.model_training(enterprise = 'VALE', start_date = '2024-05-20', end_date = '2024-11-20')"
   ]
  },
  {
   "cell_type": "code",
   "execution_count": null,
   "metadata": {},
   "outputs": [],
   "source": [
    "pred_runner.load_model_mlflow(\"runs:/33c3d160fe8a4394b6efbf17d3687398/model\")\n",
    "pred_runner.test_mlflow_model(enterprise = 'VALE', start_date = '2022-01-01', end_date = '2022-12-31', lookback = 4)"
   ]
  },
  {
   "cell_type": "code",
   "execution_count": null,
   "metadata": {},
   "outputs": [],
   "source": [
    "pred_runner.predict([0.25,0.256,0.554,0.967])"
   ]
  }
 ],
 "metadata": {
  "kernelspec": {
   "display_name": "fiap-tech-challenge-04",
   "language": "python",
   "name": "python3"
  },
  "language_info": {
   "codemirror_mode": {
    "name": "ipython",
    "version": 3
   },
   "file_extension": ".py",
   "mimetype": "text/x-python",
   "name": "python",
   "nbconvert_exporter": "python",
   "pygments_lexer": "ipython3",
   "version": "3.10.15"
  }
 },
 "nbformat": 4,
 "nbformat_minor": 2
}
